{
  "metadata": {
    "kernelspec": {
      "name": "python",
      "display_name": "Python (Pyodide)",
      "language": "python"
    },
    "language_info": {
      "codemirror_mode": {
        "name": "python",
        "version": 3
      },
      "file_extension": ".py",
      "mimetype": "text/x-python",
      "name": "python",
      "nbconvert_exporter": "python",
      "pygments_lexer": "ipython3",
      "version": "3.8"
    }
  },
  "nbformat_minor": 4,
  "nbformat": 4,
  "cells": [
    {
      "cell_type": "markdown",
      "source": "# Data Science Tools and Ecosystem",
      "metadata": {}
    },
    {
      "cell_type": "markdown",
      "source": "In This Notebook,Data Sciennnce Tools and Ecosystem is summarized",
      "metadata": {}
    },
    {
      "cell_type": "markdown",
      "source": "Some Data Science Language are as follows:\n1. Python\n2. R\n3. SQL\n4. Julia\n5. Java",
      "metadata": {}
    },
    {
      "cell_type": "markdown",
      "source": "Most Used libraries used by Data Scientists are as follows:\n1. Tensorflow\n2. NumPy\n3. Pandas\n4. Kiras\n5. Matplotlib",
      "metadata": {}
    },
    {
      "cell_type": "markdown",
      "source": "|Data Science Tools|\n|---|\n|Tableau|\n|Apache Hodoop|\n|Apache Spark|\n|SAS|\n|Big ML|",
      "metadata": {}
    },
    {
      "cell_type": "markdown",
      "source": "### Introducing Arithmetic expression examples in Python",
      "metadata": {}
    },
    {
      "cell_type": "code",
      "source": "#Aritmetic expression of adding and then Multiplying a number\n(10*20)+100",
      "metadata": {
        "trusted": true
      },
      "outputs": [
        {
          "execution_count": 2,
          "output_type": "execute_result",
          "data": {
            "text/plain": "300"
          },
          "metadata": {}
        }
      ],
      "execution_count": 2
    },
    {
      "cell_type": "code",
      "source": "#A bus Driver is Driving a bus for 180 minutes, so how much time he has been driving in Hours?\n(180/60)",
      "metadata": {
        "trusted": true
      },
      "outputs": [
        {
          "execution_count": 3,
          "output_type": "execute_result",
          "data": {
            "text/plain": "3.0"
          },
          "metadata": {}
        }
      ],
      "execution_count": 3
    },
    {
      "cell_type": "markdown",
      "source": "### List Objectives.\n* Popular Data Science Language\n* Most used Data Science Libraries\n* Well known Data Science Tools\n* How to Provide comments In the Cell and Solve basic Aritmetic expression",
      "metadata": {}
    },
    {
      "cell_type": "markdown",
      "source": "## Author\nVarun Lautkar",
      "metadata": {}
    }
  ]
}